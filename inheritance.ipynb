{
 "cells": [
  {
   "cell_type": "markdown",
   "metadata": {},
   "source": [
    "# Inheritance"
   ]
  },
  {
   "cell_type": "code",
   "execution_count": 6,
   "metadata": {},
   "outputs": [],
   "source": [
    "# Parent or Super or base Class\n",
    "class Product:\n",
    "    # Global or Class Features\n",
    "    platform = 'Amazon'\n",
    "\n",
    "    # Constructor\n",
    "    def __init__(self, title:str, price: float) -> None:\n",
    "        # instance or object based features\n",
    "        self.title = title\n",
    "        self.price = price\n",
    "        self.__secretcode = 4545435   # private feature    \n",
    "    \n",
    "    # Behaviours or methods\n",
    "    @property\n",
    "    def secretcode(self):      # getter method\n",
    "        return self.__secretcode\n",
    "\n",
    "    @secretcode.setter\n",
    "    def secretcode(self, new):    # setter\n",
    "        self.__secretcode = new\n",
    "\n",
    "    @secretcode.deleter\n",
    "    def secretcode(self):    # deleter\n",
    "        del self.__secretcode\n",
    "\n",
    "    def getDiscount(self):\n",
    "        return self.price - self.price *(10/100)\n",
    "    \n",
    "    def __repr__(self):\n",
    "        return f'Product(title={self.title}, price={self.price})'"
   ]
  },
  {
   "cell_type": "markdown",
   "metadata": {},
   "source": [
    "## Single Inheritance"
   ]
  },
  {
   "cell_type": "code",
   "execution_count": 21,
   "metadata": {},
   "outputs": [],
   "source": [
    "# Child or Subclass or derived class\n",
    "class Cloth(Product):\n",
    "    # Constructor overriding - Runtime Polymorphism\n",
    "    def __init__(self, title:str, price: float, fabric: str):\n",
    "        self.fabric = fabric\n",
    "        super().__init__(title, price)\n",
    "    \n",
    "    # method overriding - Runtime Polymorphism\n",
    "    def getFabricType(self):\n",
    "        return self.fabric\n",
    "        \n",
    "    def __repr__(self):\n",
    "        return f'Cloth(title={self.title}, price={self.price}, fabric={self.fabric})'"
   ]
  },
  {
   "cell_type": "code",
   "execution_count": 22,
   "metadata": {},
   "outputs": [
    {
     "data": {
      "text/plain": [
       "Cloth(title=Nokia x30, price=120000.0, fabric=Cotton)"
      ]
     },
     "execution_count": 22,
     "metadata": {},
     "output_type": "execute_result"
    }
   ],
   "source": [
    "c1 = Cloth('Nokia x30', 120000.0, fabric='Cotton')\n",
    "c1"
   ]
  },
  {
   "cell_type": "code",
   "execution_count": 23,
   "metadata": {},
   "outputs": [
    {
     "data": {
      "text/plain": [
       "108000.0"
      ]
     },
     "execution_count": 23,
     "metadata": {},
     "output_type": "execute_result"
    }
   ],
   "source": [
    "c1.getDiscount()"
   ]
  },
  {
   "cell_type": "code",
   "execution_count": 24,
   "metadata": {},
   "outputs": [
    {
     "data": {
      "text/plain": [
       "'Cotton'"
      ]
     },
     "execution_count": 24,
     "metadata": {},
     "output_type": "execute_result"
    }
   ],
   "source": [
    "c1.fabric"
   ]
  },
  {
   "cell_type": "code",
   "execution_count": 25,
   "metadata": {},
   "outputs": [
    {
     "data": {
      "text/plain": [
       "'Cotton'"
      ]
     },
     "execution_count": 25,
     "metadata": {},
     "output_type": "execute_result"
    }
   ],
   "source": [
    "c1.getFabricType()"
   ]
  },
  {
   "cell_type": "markdown",
   "metadata": {},
   "source": [
    "## Multilevel "
   ]
  },
  {
   "cell_type": "code",
   "execution_count": 26,
   "metadata": {},
   "outputs": [],
   "source": [
    "# topWear <- Coth <- Product\n",
    "class topWear(Cloth):\n",
    "    pass"
   ]
  },
  {
   "cell_type": "code",
   "execution_count": 27,
   "metadata": {},
   "outputs": [
    {
     "data": {
      "text/plain": [
       "Cloth(title=T-Shirt, price=450.0, fabric=Pure Cotton)"
      ]
     },
     "execution_count": 27,
     "metadata": {},
     "output_type": "execute_result"
    }
   ],
   "source": [
    "t1 = topWear('T-Shirt', 450.0, 'Pure Cotton')\n",
    "t1"
   ]
  },
  {
   "cell_type": "code",
   "execution_count": 28,
   "metadata": {},
   "outputs": [
    {
     "data": {
      "text/plain": [
       "'Amazon'"
      ]
     },
     "execution_count": 28,
     "metadata": {},
     "output_type": "execute_result"
    }
   ],
   "source": [
    "t1.platform"
   ]
  },
  {
   "cell_type": "markdown",
   "metadata": {},
   "source": [
    "# Multiple Inheritance"
   ]
  },
  {
   "cell_type": "code",
   "execution_count": 55,
   "metadata": {},
   "outputs": [],
   "source": [
    "class Seller:\n",
    "    def __init__(self, sid: int, sname: str):\n",
    "        self.sname = sname\n",
    "        self.sid = sid\n",
    "        self.__scode = 646\n",
    "\n",
    "    def getScode(self):\n",
    "        return self.__scode\n",
    "\n",
    "    def __repr__(self):\n",
    "        return f'Seller(sid={self.sid}, sname={self.sname})'\n"
   ]
  },
  {
   "cell_type": "code",
   "execution_count": 60,
   "metadata": {},
   "outputs": [],
   "source": [
    "class topWear(Cloth, Seller):\n",
    "     # Constructor overriding - Runtime Polymorphism\n",
    "    def __init__(self, title:str, price: float, fabric: str, sid, sname):\n",
    "        Cloth.__init__(self, title, price, fabric)\n",
    "        Seller.__init__(self, sid, sname)\n",
    "    \n",
    "    # method overriding - Runtime Polymorphism\n",
    "    def sellerInfo(self):\n",
    "        return Seller.__repr__(self), Seller.getScode(self)\n",
    "        \n",
    "    def __repr__(self):\n",
    "        return f'Cloth(title={self.title}, price={self.price}, fabric={self.fabric})'"
   ]
  },
  {
   "cell_type": "code",
   "execution_count": 61,
   "metadata": {},
   "outputs": [
    {
     "data": {
      "text/plain": [
       "Cloth(title=T-Shirt, price=450.0, fabric=Pure Cotton)"
      ]
     },
     "execution_count": 61,
     "metadata": {},
     "output_type": "execute_result"
    }
   ],
   "source": [
    "t1 = topWear('T-Shirt', 450.0, 'Pure Cotton', 33, 'Hardin Scott')\n",
    "t1"
   ]
  },
  {
   "cell_type": "code",
   "execution_count": 62,
   "metadata": {},
   "outputs": [
    {
     "data": {
      "text/plain": [
       "'Hardin Scott'"
      ]
     },
     "execution_count": 62,
     "metadata": {},
     "output_type": "execute_result"
    }
   ],
   "source": [
    "t1.sname"
   ]
  },
  {
   "cell_type": "code",
   "execution_count": 63,
   "metadata": {},
   "outputs": [
    {
     "data": {
      "text/plain": [
       "('Seller(sid=33, sname=Hardin Scott)', 646)"
      ]
     },
     "execution_count": 63,
     "metadata": {},
     "output_type": "execute_result"
    }
   ],
   "source": [
    "t1.sellerInfo()"
   ]
  },
  {
   "cell_type": "code",
   "execution_count": null,
   "metadata": {},
   "outputs": [],
   "source": []
  }
 ],
 "metadata": {
  "kernelspec": {
   "display_name": "Python 3.10.2 64-bit",
   "language": "python",
   "name": "python3"
  },
  "language_info": {
   "codemirror_mode": {
    "name": "ipython",
    "version": 3
   },
   "file_extension": ".py",
   "mimetype": "text/x-python",
   "name": "python",
   "nbconvert_exporter": "python",
   "pygments_lexer": "ipython3",
   "version": "3.10.2"
  },
  "orig_nbformat": 4,
  "vscode": {
   "interpreter": {
    "hash": "369f2c481f4da34e4445cda3fffd2e751bd1c4d706f27375911949ba6bb62e1c"
   }
  }
 },
 "nbformat": 4,
 "nbformat_minor": 2
}
